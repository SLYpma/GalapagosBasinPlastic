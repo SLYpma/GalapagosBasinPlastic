{
 "cells": [
  {
   "cell_type": "code",
   "execution_count": 7,
   "metadata": {},
   "outputs": [
    {
     "name": "stderr",
     "output_type": "stream",
     "text": [
      "WARNING: File /data2/imau/oceanparcels/hydrodynamic_data/NEMO-MEDUSA/ORCA0083-N006/domain/coordinates.nc could not be decoded properly by xarray (version 0.11.0).\n",
      "         It will be opened with no decoding. Filling values might be wrongly parsed.\n",
      "/home/staff/sebil001/miniconda2/lib/python2.7/site-packages/xarray/conventions.py:362: SerializationWarning: variable u'uo' has multiple fill values set([0.0, 1e+20]), decoding all values to NaN.\n",
      "  stack_char_dim=stack_char_dim)\n",
      "/home/staff/sebil001/miniconda2/lib/python2.7/site-packages/xarray/conventions.py:362: SerializationWarning: variable u'tauuo' has multiple fill values set([0.0, 1e+20]), decoding all values to NaN.\n",
      "  stack_char_dim=stack_char_dim)\n",
      "WARNING: Casting lon data to np.float32\n",
      "WARNING: Casting lat data to np.float32\n",
      "WARNING: Casting depth data to np.float32\n",
      "/home/staff/sebil001/miniconda2/lib/python2.7/site-packages/xarray/conventions.py:362: SerializationWarning: variable u'vo' has multiple fill values set([0.0, 1e+20]), decoding all values to NaN.\n",
      "  stack_char_dim=stack_char_dim)\n",
      "/home/staff/sebil001/miniconda2/lib/python2.7/site-packages/xarray/conventions.py:362: SerializationWarning: variable u'tauvo' has multiple fill values set([0.0, 1e+20]), decoding all values to NaN.\n",
      "  stack_char_dim=stack_char_dim)\n",
      "INFO: Compiled GalapagosParticleAdvectionRK4SampleGalapagosAge ==> /tmp/parcels-24236/7e42e7f6216e3c637484d8001d7365f3.so\n",
      "100% (346723200.0 of 346723200.0) || Elapsed Time: 1 day, 4:12:47 Time: 1 day, 4:12:47\n"
     ]
    }
   ],
   "source": [
    "# %%writefile galapagosrun_china.py\n",
    "\n",
    "from parcels import FieldSet, Field, ParticleSet, JITParticle, AdvectionRK4, ErrorCode, Variable\n",
    "from datetime import timedelta as delta\n",
    "from glob import glob\n",
    "import numpy as np\n",
    "import xarray as xr\n",
    "\n",
    "ddir = '/data2/imau/oceanparcels/hydrodynamic_data/NEMO-MEDUSA/ORCA0083-N006/'\n",
    "ufiles = sorted(glob(ddir+'means/ORCA0083-N06_*d05U.nc'))\n",
    "vfiles = [u.replace('05U.nc', '05V.nc') for u in ufiles]\n",
    "meshfile = glob(ddir+'domain/coordinates.nc')\n",
    "\n",
    "filenames = {'U': {'lon': meshfile, 'lat': meshfile, 'data': ufiles},\n",
    "             'V': {'lon': meshfile, 'lat': meshfile, 'data': vfiles}}\n",
    "variables = {'U': 'uo', 'V': 'vo'}\n",
    "dimensions = {'lon': 'glamf', 'lat': 'gphif', 'time': 'time_counter'}\n",
    "fieldset = FieldSet.from_nemo(filenames, variables, dimensions)\n",
    "\n",
    "fieldset.computeTimeChunk(fieldset.U.grid.time[0], 1)\n",
    "flon = fieldset.U.grid.lon\n",
    "flat = fieldset.U.grid.lat\n",
    "\n",
    "landlon = []\n",
    "landlat = []\n",
    "xmin = 400\n",
    "for y in range(1600, 2000, 5):\n",
    "    line = fieldset.U.data[0, y, xmin:]\n",
    "    I = np.where(line!=0)[0]\n",
    "    if len(I)>0:\n",
    "        for i in I:\n",
    "            if np.all(line[i-10:i-1]==0):\n",
    "                landlon.append(flon[y, xmin+i])\n",
    "                landlat.append(flat[y, xmin+i])\n",
    "                break\n",
    "\n",
    "galapagosmask = np.zeros_like(fieldset.U.data[0, :, :])\n",
    "galapagos_extent = [-91.8, -89, -1.4, 0.7]\n",
    "for x in range(2000, 2500):\n",
    "    for y in range(1300, 1600):\n",
    "        if (flon[y, x] >= galapagos_extent[0] and flon[y, x] <= galapagos_extent[1] and\n",
    "            flat[y, x] >= galapagos_extent[2] and flat[y, x] <= galapagos_extent[3]):\n",
    "            galapagosmask[y, x] = 1\n",
    "fieldset.add_field(Field('galapagosmask', galapagosmask, grid=fieldset.U.grid, \n",
    "                         mesh='spherical', interp_method='nearest'))\n",
    "\n",
    "def SampleGalapagos(fieldset, particle, time):\n",
    "    if fieldset.galapagosmask[time, particle.depth, particle.lat, particle.lon] == 1:\n",
    "        particle.visitedgalapagos = 1\n",
    "\n",
    "def Age(fieldset, particle, time):\n",
    "    particle.age = particle.age + math.fabs(particle.dt)\n",
    "    if particle.age > 10*365*86400:\n",
    "        particle.delete()\n",
    "\n",
    "class GalapagosParticle(JITParticle):\n",
    "    visitedgalapagos = Variable('visitedgalapagos', initial=0.)\n",
    "    age = Variable('age', initial = 0.)\n",
    "\n",
    "pset = ParticleSet(fieldset=fieldset, pclass=GalapagosParticle, lon=landlon, lat=landlat, \n",
    "                   time=fieldset.U.grid.time[0], repeatdt=delta(days=10))\n",
    "outfile = pset.ParticleFile(name=\"/scratch/evansebille/galapagosparticles_china.nc\", outputdt=delta(days=1))\n",
    "\n",
    "pset.execute(AdvectionRK4+pset.Kernel(SampleGalapagos)+Age, dt=delta(hours=1), output_file=outfile)"
   ]
  },
  {
   "cell_type": "code",
   "execution_count": 4,
   "metadata": {},
   "outputs": [
    {
     "name": "stdout",
     "output_type": "stream",
     "text": [
      "Overwriting parcelsrun.sh\n"
     ]
    }
   ],
   "source": [
    "%%writefile parcelsrun.sh\n",
    "#/bin/sh\n",
    "#\n",
    "# SGE: the job name\n",
    "#$ -N Galapagosrunchina\n",
    "#\n",
    "# The requested run-time, expressed as (xxxx sec or hh:mm:ss)\n",
    "#$ -l h_rt=96:00:00\n",
    "#\n",
    "# SGE: ouput in the current working dir\n",
    "#$ -cwd    \n",
    "#\n",
    "source ~/miniconda2/bin/activate root\n",
    "cd /home/staff/sebil001/ParcelsRuns/Galapagos_NEMO\n",
    "python galapagosrun_china.py"
   ]
  },
  {
   "cell_type": "code",
   "execution_count": 6,
   "metadata": {},
   "outputs": [
    {
     "data": {
      "text/plain": [
       "0"
      ]
     },
     "execution_count": 6,
     "metadata": {},
     "output_type": "execute_result"
    }
   ],
   "source": [
    "import os\n",
    "os.system('qsub -V parcelsrun.sh')"
   ]
  },
  {
   "cell_type": "code",
   "execution_count": null,
   "metadata": {},
   "outputs": [],
   "source": []
  }
 ],
 "metadata": {
  "kernelspec": {
   "display_name": "Python 2",
   "language": "python",
   "name": "python2"
  },
  "language_info": {
   "codemirror_mode": {
    "name": "ipython",
    "version": 2
   },
   "file_extension": ".py",
   "mimetype": "text/x-python",
   "name": "python",
   "nbconvert_exporter": "python",
   "pygments_lexer": "ipython2",
   "version": "2.7.15"
  }
 },
 "nbformat": 4,
 "nbformat_minor": 2
}
