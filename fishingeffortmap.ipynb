{
 "cells": [
  {
   "cell_type": "code",
   "execution_count": null,
   "metadata": {},
   "outputs": [],
   "source": [
    "#!/usr/bin/env python3\n",
    "# -*- coding: utf-8 -*-\n",
    "\"\"\"\n",
    "Created on Wed Mar 20 11:03:12 2019\n",
    "\n",
    "@author: kaandorp, erikvansebille\n",
    "\"\"\"\n",
    "\n",
    "import numpy as np\n",
    "import glob\n",
    "import pandas as pd\n",
    "import os\n",
    "import progressbar\n",
    "\n",
    "fileList = list(np.sort(glob.glob('/Volumes/oceanparcels/input_data/GlobalFishingWatch/FishingEffort/daily_csvs/*')))\n",
    "\n",
    "galapagos_extent = [-91.8, -89, -1.4, 0.7]\n",
    "# dx, dy = 7, 5\n",
    "# lon_min = galapagos_extent[0] - dx\n",
    "# lon_max = galapagos_extent[1] + dx\n",
    "# lat_min = galapagos_extent[2] - dy\n",
    "# lat_max = galapagos_extent[3] + dy\n",
    "\n",
    "lon_min, lon_max, lat_min, lat_max = [-102, -75, -15, 8]\n",
    "lon_edge = np.linspace(lon_min,lon_max,int((lon_max - lon_min + 0.1)*10) )\n",
    "lat_edge = np.linspace(lat_min,lat_max,int((lat_max - lat_min + 0.1)*10) )\n",
    "\n",
    "fishinghours_mat = np.zeros([len(lon_edge),len(lat_edge)])\n",
    "\n",
    "pbar = progressbar.ProgressBar()\n",
    "for i1 in pbar(range(len(fileList))):\n",
    "    data = pd.read_csv(fileList[i1])\n",
    "    lats = data.loc[:,'lat_bin']/10\n",
    "    lons = data.loc[:,'lon_bin']/10\n",
    "    fh = data.loc[:,'fishing_hours']\n",
    "    \n",
    "    indices_galapagos = ((lons >= lon_min) & (lons <= lon_max)) & ((lats >= lat_min) & (lats <= lat_max))\n",
    "    \n",
    "    lats_galapagos = lats[indices_galapagos]\n",
    "    lons_galapagos = lons[indices_galapagos]\n",
    "    fh_galapagos = fh[indices_galapagos]\n",
    "    \n",
    "    for i2 in range(len(lats_galapagos)):\n",
    "        index_lon = np.where(abs(lon_edge-lons_galapagos.iloc[i2]) < 0.00001)  \n",
    "        index_lat = np.where(abs(lat_edge-lats_galapagos.iloc[i2]) < 0.00001) \n",
    "        fishinghours_mat[index_lon,index_lat] += fh_galapagos.iloc[i2]\n",
    "\n",
    "np.savez('fishingeffort.npz', fishinghours_mat, fishinghours_x, fishinghours_y)"
   ]
  },
  {
   "cell_type": "code",
   "execution_count": null,
   "metadata": {},
   "outputs": [],
   "source": []
  }
 ],
 "metadata": {
  "kernelspec": {
   "display_name": "Python 3",
   "language": "python",
   "name": "python3"
  },
  "language_info": {
   "codemirror_mode": {
    "name": "ipython",
    "version": 3
   },
   "file_extension": ".py",
   "mimetype": "text/x-python",
   "name": "python",
   "nbconvert_exporter": "python",
   "pygments_lexer": "ipython3",
   "version": "3.6.8"
  }
 },
 "nbformat": 4,
 "nbformat_minor": 4
}
