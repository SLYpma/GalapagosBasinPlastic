{
 "cells": [
  {
   "cell_type": "code",
   "execution_count": null,
   "metadata": {},
   "outputs": [],
   "source": [
    "%%writefile galapagosrun_bwd.py\n",
    "\n",
    "from parcels import FieldSet, Field, ParticleSet, JITParticle, AdvectionRK4, ErrorCode, Variable\n",
    "from datetime import timedelta as delta\n",
    "from glob import glob\n",
    "import numpy as np\n",
    "import xarray as xr\n",
    "\n",
    "ddir = '/data2/imau/oceanparcels/hydrodynamic_data/NEMO-MEDUSA/ORCA0083-N006/'\n",
    "ufiles = sorted(glob(ddir+'means/ORCA0083-N06_*d05U.nc'))\n",
    "vfiles = [u.replace('05U.nc', '05V.nc') for u in ufiles]\n",
    "meshfile = glob(ddir+'domain/coordinates.nc')\n",
    "\n",
    "filenames = {'U': {'lon': meshfile, 'lat': meshfile, 'data': ufiles},\n",
    "             'V': {'lon': meshfile, 'lat': meshfile, 'data': vfiles}}\n",
    "variables = {'U': 'uo', 'V': 'vo'}\n",
    "dimensions = {'lon': 'glamf', 'lat': 'gphif', 'time': 'time_counter'}\n",
    "fieldset_nemo = FieldSet.from_nemo(filenames, variables, dimensions)\n",
    "\n",
    "stokesfiles = sorted(glob('/data2/imau/oceanparcels/hydrodynamic_data/WaveWatch3data/CFSR/ww3.*_uss.nc'))\n",
    "dimensions = {'lat': 'latitude', 'lon': 'longitude', 'time': 'time'}\n",
    "uuss = Field.from_netcdf(stokesfiles, 'uuss', dimensions, fieldtype='U')\n",
    "vuss = Field.from_netcdf(stokesfiles, 'vuss', dimensions, fieldtype='V')\n",
    "    \n",
    "fieldset = FieldSet(U=fieldset_nemo.U+uuss, V=fieldset_nemo.V+vuss)\n",
    "\n",
    "fieldset.add_periodic_halo(zonal=True, meridional=False, halosize=5)\n",
    "\n",
    "galapagos_extent = [-91.8, -89, -1.4, 0.7]\n",
    "startlon, startlat = np.meshgrid(np.arange(galapagos_extent[0], galapagos_extent[1], 0.2),\n",
    "                                 np.arange(galapagos_extent[2], galapagos_extent[3], 0.2))\n",
    "\n",
    "def Age(fieldset, particle, time):\n",
    "    particle.age = particle.age + math.fabs(particle.dt)\n",
    "    if particle.age > 10*365*86400:\n",
    "        particle.delete()\n",
    "\n",
    "class GalapagosParticle(JITParticle):\n",
    "    age = Variable('age', initial = 0.)\n",
    "\n",
    "def DeleteParticle(particle, fieldset, time):\n",
    "    particle.delete()\n",
    "    \n",
    "def WrapParticle(particle, fieldset, time):\n",
    "    if particle.lon < -530:\n",
    "        particle.lon += 360\n",
    "\n",
    "pset = ParticleSet(fieldset=fieldset, pclass=GalapagosParticle, lon=startlon, lat=startlat, \n",
    "                   time=fieldset.U[0].grid.time[-1], repeatdt=delta(days=10))\n",
    "outfile = pset.ParticleFile(name=\"/scratch/evansebille/galapagosparticles_bwd_wstokes.nc\", outputdt=delta(days=1))\n",
    "\n",
    "pset.execute(AdvectionRK4+pset.Kernel(Age)+WrapParticle, dt=delta(hours=-1), output_file=outfile, \n",
    "             recovery={ErrorCode.ErrorOutOfBounds: DeleteParticle})"
   ]
  },
  {
   "cell_type": "code",
   "execution_count": null,
   "metadata": {},
   "outputs": [],
   "source": [
    "%time outfile.close()"
   ]
  },
  {
   "cell_type": "code",
   "execution_count": null,
   "metadata": {},
   "outputs": [],
   "source": []
  }
 ],
 "metadata": {
  "kernelspec": {
   "display_name": "Python 2",
   "language": "python",
   "name": "python2"
  },
  "language_info": {
   "codemirror_mode": {
    "name": "ipython",
    "version": 2
   },
   "file_extension": ".py",
   "mimetype": "text/x-python",
   "name": "python",
   "nbconvert_exporter": "python",
   "pygments_lexer": "ipython2",
   "version": "2.7.15"
  }
 },
 "nbformat": 4,
 "nbformat_minor": 2
}
