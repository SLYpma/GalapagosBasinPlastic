{
 "cells": [
  {
   "cell_type": "code",
   "execution_count": null,
   "metadata": {},
   "outputs": [
    {
     "name": "stderr",
     "output_type": "stream",
     "text": [
      "WARNING: File /data2/imau/oceanparcels/hydrodynamic_data/NEMO-MEDUSA/ORCA0083-N006/domain/coordinates.nc could not be decoded properly by xarray (version 0.11.0).\n",
      "         It will be opened with no decoding. Filling values might be wrongly parsed.\n",
      "/home/staff/sebil001/miniconda2/lib/python2.7/site-packages/xarray/conventions.py:362: SerializationWarning: variable u'uo' has multiple fill values set([0.0, 1e+20]), decoding all values to NaN.\n",
      "  stack_char_dim=stack_char_dim)\n",
      "/home/staff/sebil001/miniconda2/lib/python2.7/site-packages/xarray/conventions.py:362: SerializationWarning: variable u'tauuo' has multiple fill values set([0.0, 1e+20]), decoding all values to NaN.\n",
      "  stack_char_dim=stack_char_dim)\n",
      "WARNING: Casting lon data to np.float32\n",
      "WARNING: Casting lat data to np.float32\n",
      "WARNING: Casting depth data to np.float32\n",
      "/home/staff/sebil001/miniconda2/lib/python2.7/site-packages/xarray/conventions.py:362: SerializationWarning: variable u'vo' has multiple fill values set([0.0, 1e+20]), decoding all values to NaN.\n",
      "  stack_char_dim=stack_char_dim)\n",
      "/home/staff/sebil001/miniconda2/lib/python2.7/site-packages/xarray/conventions.py:362: SerializationWarning: variable u'tauvo' has multiple fill values set([0.0, 1e+20]), decoding all values to NaN.\n",
      "  stack_char_dim=stack_char_dim)\n",
      "INFO: Compiled GalapagosParticleAdvectionRK4Age ==> /tmp/parcels-24236/710c24d32586f45eba5d03a61e4a1f3e.so\n",
      "  5% (20390400.0 of 346723200.0) |       | Elapsed Time: 0:12:08 ETA:   4:59:21"
     ]
    }
   ],
   "source": [
    "# %%writefile galapagosun_bwd.py\n",
    "\n",
    "from parcels import FieldSet, Field, ParticleSet, JITParticle, AdvectionRK4, ErrorCode, Variable\n",
    "from datetime import timedelta as delta\n",
    "from glob import glob\n",
    "import numpy as np\n",
    "import xarray as xr\n",
    "\n",
    "ddir = '/data2/imau/oceanparcels/hydrodynamic_data/NEMO-MEDUSA/ORCA0083-N006/'\n",
    "ufiles = sorted(glob(ddir+'means/ORCA0083-N06_*d05U.nc'))\n",
    "vfiles = [u.replace('05U.nc', '05V.nc') for u in ufiles]\n",
    "meshfile = glob(ddir+'domain/coordinates.nc')\n",
    "\n",
    "filenames = {'U': {'lon': meshfile, 'lat': meshfile, 'data': ufiles},\n",
    "             'V': {'lon': meshfile, 'lat': meshfile, 'data': vfiles}}\n",
    "variables = {'U': 'uo', 'V': 'vo'}\n",
    "dimensions = {'lon': 'glamf', 'lat': 'gphif', 'time': 'time_counter'}\n",
    "fieldset = FieldSet.from_nemo(filenames, variables, dimensions)\n",
    "\n",
    "galapagos_extent = [-91.8, -89, -1.4, 0.7]\n",
    "startlon, startlat = np.meshgrid(np.arange(galapagos_extent[0], galapagos_extent[1], 0.2),\n",
    "                                 np.arange(galapagos_extent[2], galapagos_extent[3], 0.2))\n",
    "\n",
    "def Age(fieldset, particle, time):\n",
    "    particle.age = particle.age + math.fabs(particle.dt)\n",
    "    if particle.age > 10*365*86400:\n",
    "        particle.delete()\n",
    "\n",
    "class GalapagosParticle(JITParticle):\n",
    "    age = Variable('age', initial = 0.)\n",
    "\n",
    "pset = ParticleSet(fieldset=fieldset, pclass=GalapagosParticle, lon=startlon, lat=startlat, \n",
    "                   time=fieldset.U.grid.time[-1], repeatdt=delta(days=10))\n",
    "outfile = pset.ParticleFile(name=\"/scratch/evansebille/galapagosparticles_bwd.nc\", outputdt=delta(days=1))\n",
    "\n",
    "pset.execute(AdvectionRK4+pset.Kernel(Age), dt=delta(hours=-1), output_file=outfile)"
   ]
  },
  {
   "cell_type": "code",
   "execution_count": 3,
   "metadata": {},
   "outputs": [
    {
     "data": {
      "text/plain": [
       "(11, 14)"
      ]
     },
     "execution_count": 3,
     "metadata": {},
     "output_type": "execute_result"
    }
   ],
   "source": [
    "import numpy as np\n",
    "galapagos_extent = [-91.8, -89, -1.4, 0.7]\n",
    "startlon, startlat = np.meshgrid(np.arange(galapagos_extent[0], galapagos_extent[1], 0.2),\n",
    "                                 np.arange(galapagos_extent[2], galapagos_extent[3], 0.2))\n",
    "startlon.shape"
   ]
  },
  {
   "cell_type": "code",
   "execution_count": null,
   "metadata": {},
   "outputs": [],
   "source": []
  }
 ],
 "metadata": {
  "kernelspec": {
   "display_name": "Python 2",
   "language": "python",
   "name": "python2"
  },
  "language_info": {
   "codemirror_mode": {
    "name": "ipython",
    "version": 2
   },
   "file_extension": ".py",
   "mimetype": "text/x-python",
   "name": "python",
   "nbconvert_exporter": "python",
   "pygments_lexer": "ipython2",
   "version": "2.7.15"
  }
 },
 "nbformat": 4,
 "nbformat_minor": 2
}
