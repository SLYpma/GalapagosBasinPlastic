{
 "cells": [
  {
   "cell_type": "code",
   "execution_count": 1,
   "metadata": {},
   "outputs": [
    {
     "name": "stdout",
     "output_type": "stream",
     "text": [
      "Populating the interactive namespace from numpy and matplotlib\n"
     ]
    }
   ],
   "source": [
    "%pylab inline\n",
    "from parcels import FieldSet, Field, ParticleSet, JITParticle, AdvectionRK4, ErrorCode, Variable\n",
    "import matplotlib.patches as mpatches\n",
    "import cartopy\n",
    "from datetime import timedelta as delta\n",
    "import matplotlib.pyplot as plt\n",
    "from glob import glob\n",
    "import numpy as np\n",
    "import xarray as xr\n",
    "from os import environ\n",
    "import matplotlib.animation as animation"
   ]
  },
  {
   "cell_type": "code",
   "execution_count": 5,
   "metadata": {},
   "outputs": [],
   "source": [
    "# exp = 'china'\n",
    "# exp = 'fwd'\n",
    "exp = 'bwd'"
   ]
  },
  {
   "cell_type": "code",
   "execution_count": 30,
   "metadata": {},
   "outputs": [],
   "source": [
    "galapagos_extent = [-91.8, -89, -1.4, 0.7]\n",
    "environ[\"HDF5_USE_FILE_LOCKING\"] = \"FALSE\"\n",
    "\n",
    "# pfile = xr.open_dataset('galapagosparticles_fwd_2yrs.nc', decode_cf=True)\n",
    "pfile = xr.open_dataset('/scratch/evansebille/galapagosparticles_%s.nc' %exp, decode_cf=True)\n",
    "lon = np.ma.filled(pfile.variables['lon'], np.nan)\n",
    "lat = np.ma.filled(pfile.variables['lat'], np.nan)\n",
    "time = np.ma.filled(pfile.variables['time'], np.nan)\n",
    "age = np.ma.filled(pfile.variables['age'], np.nan)\n",
    "\n",
    "if exp != 'bwd':\n",
    "    visitedgalapagos = np.ma.filled(pfile.variables['visitedgalapagos'], np.nan)\n",
    "else:\n",
    "    visitedgalapagos = np.ones(lat.shape)\n",
    "pfile.close()\n",
    "\n",
    "if exp != 'bwd':\n",
    "    visitedtime = np.nan*np.zeros(visitedgalapagos.shape[0])\n",
    "    for p in range(visitedgalapagos.shape[0]):\n",
    "        if np.any(visitedgalapagos[p, :] == 1):\n",
    "            I = np.where(visitedgalapagos[p, :] == 1)[0][0]\n",
    "            visitedtime[p] = age[p, I]/86400.\n",
    "            visitedgalapagos[p, :] = 1\n",
    "    nvisited = len(np.where(visitedgalapagos[:, 0]==1)[0])\n",
    "        \n",
    "nsites = np.unique(lat[:, 0]).shape[0]\n",
    "startsite = np.nan*np.zeros(lat.shape[0])\n",
    "for s in range(nsites):\n",
    "    I = np.where(lat[:, 0] == lat[s, 0])\n",
    "    startsite[I] = s"
   ]
  },
  {
   "cell_type": "code",
   "execution_count": null,
   "metadata": {},
   "outputs": [],
   "source": [
    "pylab.rcParams['figure.figsize'] = (10, 7)\n",
    "\n",
    "if np.any(np.isfinite(visitedtime)):\n",
    "    plt.hist(visitedtime[np.isfinite(visitedtime)], np.arange(0, np.nanmax(visitedtime), 10))\n",
    "    plt.gca().set_xlim([0, np.nanmax(visitedtime)])\n",
    "    plt.xlabel('Time to first pass through Galapagos [days]')\n",
    "    plt.ylabel('Number of particles')\n",
    "    plt.title('%d of %d (%.1f%%) particles reach Galapagos' % (nvisited, visitedgalapagos.shape[0],\n",
    "          100.0*nvisited/visitedgalapagos.shape[0]))\n",
    "    plt.show()"
   ]
  },
  {
   "cell_type": "code",
   "execution_count": null,
   "metadata": {},
   "outputs": [],
   "source": [
    "countrylats = [-60, -18, -3, 1.5, 7.3, 8.1, 11.0, 12.8, 13.7, 14.6, 32.5]\n",
    "countrynames = ['CH', 'PE', 'EC', 'CO', 'PA', 'CR', 'NI', 'SV', 'GT', 'MX']"
   ]
  },
  {
   "cell_type": "code",
   "execution_count": null,
   "metadata": {},
   "outputs": [],
   "source": [
    "pct_visitgalapagos = np.zeros(nsites)\n",
    "startlat = np.zeros(nsites)\n",
    "for s in range(nsites):\n",
    "    I = np.where(startsite==s)[0]\n",
    "    nvisit = len(np.where(visitedgalapagos[I,0]==1)[0])\n",
    "    pct_visitgalapagos[s] = 100*nvisit/len(I)\n",
    "    startlat[s] = lat[I[0], 0]\n",
    "\n",
    "plt.plot(startlat, pct_visitgalapagos,'.-')\n",
    "plt.xlabel('Starting latitude [degrees N]')\n",
    "plt.ylabel('Fraction of particles passing through Galapagos [%]')\n",
    "ylim = plt.gca().get_ylim()\n",
    "xlim = plt.gca().get_xlim()\n",
    "for s in range(1, len(countrylats)):\n",
    "    plt.plot([countrylats[s], countrylats[s]], ylim, 'k:')\n",
    "    xmin = max(xlim[0], countrylats[s-1])\n",
    "    xmax = min(xlim[1], countrylats[s])\n",
    "    plt.text((xmin+xmax)/2, ylim[1]-3, countrynames[s-1], horizontalalignment='center')\n",
    "\n",
    "plt.gca().set_ylim(ylim)\n",
    "plt.gca().set_xlim(xlim)\n",
    "plt.show()"
   ]
  },
  {
   "cell_type": "code",
   "execution_count": 31,
   "metadata": {},
   "outputs": [
    {
     "name": "stderr",
     "output_type": "stream",
     "text": [
      "/home/staff/sebil001/miniconda2/lib/python2.7/site-packages/ipykernel_launcher.py:21: FutureWarning: In the future, 'NAT < x' and 'x < NAT' will always be False.\n",
      "/home/staff/sebil001/miniconda2/lib/python2.7/site-packages/ipykernel_launcher.py:30: FutureWarning: In the future, 'NAT < x' and 'x < NAT' will always be False.\n"
     ]
    },
    {
     "data": {
      "image/png": "[encoded data removed]",
      "text/plain": [
       "<Figure size 720x504 with 1 Axes>"
      ]
     },
     "metadata": {
      "needs_background": "light"
     },
     "output_type": "display_data"
    }
   ],
   "source": [
    "pylab.rcParams['figure.figsize'] = (10, 7)\n",
    "\n",
    "projection = cartopy.crs.PlateCarree(central_longitude=180)\n",
    "fig, ax = plt.subplots(1, 1, subplot_kw={'projection': projection})\n",
    "ax.coastlines()\n",
    "ax.add_feature(cartopy.feature.LAND)\n",
    "\n",
    "ax.add_patch(mpatches.Rectangle(xy=[galapagos_extent[0], galapagos_extent[2]],\n",
    "                                width=galapagos_extent[1]-galapagos_extent[0], \n",
    "                                height=galapagos_extent[3]-galapagos_extent[2], facecolor='red', alpha=0.2,\n",
    "                                transform=cartopy.crs.PlateCarree()))\n",
    "\n",
    "if exp == 'americas':\n",
    "    axextent = [0, 120, -15, 15]\n",
    "elif exp == 'china':\n",
    "    axextent = [-90, 120, -20, 50] \n",
    "elif exp == 'bwd':\n",
    "    axextent = [0, 120, -45, 20] \n",
    "plottimes = np.arange(np.min(time), np.max(time), dtype='datetime64[5D]')\n",
    "\n",
    "b = np.where(np.logical_and(time >= plottimes[0], time < plottimes[1]))\n",
    "scat = ax.scatter(lon[b], lat[b], s=3, c=visitedgalapagos[b], transform=cartopy.crs.Geodetic(), cmap=\"bwr\")\n",
    "ax.set_extent(axextent, crs=projection)\n",
    "scat.set_clim(0, 1)\n",
    "\n",
    "ttl = ax.set_title('Particles on ' + str(plottimes[0]) + ' (red particles pass through Galapagos)')\n",
    "frames = np.arange(0, len(plottimes)-1)\n",
    "\n",
    "def animate(t):\n",
    "    b = np.where(np.logical_and(time >= plottimes[t], time < plottimes[t+1]))\n",
    "    scat.set_offsets(np.vstack((lon[b], lat[b])).transpose())\n",
    "    scat.set_array(visitedgalapagos[b])\n",
    "    ttl.set_text('Particles on ' + str(plottimes[t]) + ' (red particles pass through Galapagos)')\n",
    "    return scat,\n",
    "\n",
    "ax.set_extent(axextent, crs=projection)\n",
    "anim = animation.FuncAnimation(fig, animate, frames=frames, interval=100, blit=True)\n",
    "anim\n",
    "anim.save('galapagosparticles_%s.gif' % exp, writer='imagemagick', fps=10)"
   ]
  },
  {
   "cell_type": "code",
   "execution_count": null,
   "metadata": {},
   "outputs": [],
   "source": [
    "projection = cartopy.crs.PlateCarree(central_longitude=180)\n",
    "fig, ax = plt.subplots(1, 1, subplot_kw={'projection': projection})\n",
    "\n",
    "axextent = [-70, 110, -20, 50]\n",
    "ax.set_extent(axextent, crs=projection)"
   ]
  },
  {
   "cell_type": "code",
   "execution_count": 29,
   "metadata": {},
   "outputs": [
    {
     "data": {
      "text/plain": [
       "numpy.datetime64('2008-09-30T12:00:00.000000000')"
      ]
     },
     "execution_count": 29,
     "metadata": {},
     "output_type": "execute_result"
    }
   ],
   "source": [
    "np.amin(time)"
   ]
  },
  {
   "cell_type": "code",
   "execution_count": null,
   "metadata": {},
   "outputs": [],
   "source": []
  }
 ],
 "metadata": {
  "kernelspec": {
   "display_name": "Python 2",
   "language": "python",
   "name": "python2"
  },
  "language_info": {
   "codemirror_mode": {
    "name": "ipython",
    "version": 2
   },
   "file_extension": ".py",
   "mimetype": "text/x-python",
   "name": "python",
   "nbconvert_exporter": "python",
   "pygments_lexer": "ipython2",
   "version": "2.7.15"
  }
 },
 "nbformat": 4,
 "nbformat_minor": 2
}
